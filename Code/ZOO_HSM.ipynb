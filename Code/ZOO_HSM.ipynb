{
  "nbformat": 4,
  "nbformat_minor": 0,
  "metadata": {
    "colab": {
      "name": "ZOO_HSM.ipynb",
      "provenance": [],
      "collapsed_sections": []
    },
    "kernelspec": {
      "name": "python3",
      "display_name": "Python 3"
    },
    "language_info": {
      "name": "python"
    }
  },
  "cells": [
    {
      "cell_type": "code",
      "source": [
        "pip install napkinxc"
      ],
      "metadata": {
        "colab": {
          "base_uri": "https://localhost:8080/"
        },
        "id": "Bt39P1diUckG",
        "outputId": "97338e6d-11c1-4976-f891-6f681b23e882"
      },
      "execution_count": null,
      "outputs": [
        {
          "output_type": "stream",
          "name": "stdout",
          "text": [
            "Collecting napkinxc\n",
            "  Downloading napkinxc-0.6.0-cp37-cp37m-manylinux_2_17_x86_64.manylinux2014_x86_64.whl (541 kB)\n",
            "\u001b[?25l\r\u001b[K     |▋                               | 10 kB 20.0 MB/s eta 0:00:01\r\u001b[K     |█▏                              | 20 kB 20.4 MB/s eta 0:00:01\r\u001b[K     |█▉                              | 30 kB 15.4 MB/s eta 0:00:01\r\u001b[K     |██▍                             | 40 kB 11.7 MB/s eta 0:00:01\r\u001b[K     |███                             | 51 kB 5.2 MB/s eta 0:00:01\r\u001b[K     |███▋                            | 61 kB 6.1 MB/s eta 0:00:01\r\u001b[K     |████▎                           | 71 kB 6.9 MB/s eta 0:00:01\r\u001b[K     |████▉                           | 81 kB 6.1 MB/s eta 0:00:01\r\u001b[K     |█████▌                          | 92 kB 6.7 MB/s eta 0:00:01\r\u001b[K     |██████                          | 102 kB 7.4 MB/s eta 0:00:01\r\u001b[K     |██████▋                         | 112 kB 7.4 MB/s eta 0:00:01\r\u001b[K     |███████▎                        | 122 kB 7.4 MB/s eta 0:00:01\r\u001b[K     |███████▉                        | 133 kB 7.4 MB/s eta 0:00:01\r\u001b[K     |████████▌                       | 143 kB 7.4 MB/s eta 0:00:01\r\u001b[K     |█████████                       | 153 kB 7.4 MB/s eta 0:00:01\r\u001b[K     |█████████▊                      | 163 kB 7.4 MB/s eta 0:00:01\r\u001b[K     |██████████▎                     | 174 kB 7.4 MB/s eta 0:00:01\r\u001b[K     |███████████                     | 184 kB 7.4 MB/s eta 0:00:01\r\u001b[K     |███████████▌                    | 194 kB 7.4 MB/s eta 0:00:01\r\u001b[K     |████████████                    | 204 kB 7.4 MB/s eta 0:00:01\r\u001b[K     |████████████▊                   | 215 kB 7.4 MB/s eta 0:00:01\r\u001b[K     |█████████████▎                  | 225 kB 7.4 MB/s eta 0:00:01\r\u001b[K     |██████████████                  | 235 kB 7.4 MB/s eta 0:00:01\r\u001b[K     |██████████████▌                 | 245 kB 7.4 MB/s eta 0:00:01\r\u001b[K     |███████████████▏                | 256 kB 7.4 MB/s eta 0:00:01\r\u001b[K     |███████████████▊                | 266 kB 7.4 MB/s eta 0:00:01\r\u001b[K     |████████████████▍               | 276 kB 7.4 MB/s eta 0:00:01\r\u001b[K     |█████████████████               | 286 kB 7.4 MB/s eta 0:00:01\r\u001b[K     |█████████████████▌              | 296 kB 7.4 MB/s eta 0:00:01\r\u001b[K     |██████████████████▏             | 307 kB 7.4 MB/s eta 0:00:01\r\u001b[K     |██████████████████▊             | 317 kB 7.4 MB/s eta 0:00:01\r\u001b[K     |███████████████████▍            | 327 kB 7.4 MB/s eta 0:00:01\r\u001b[K     |████████████████████            | 337 kB 7.4 MB/s eta 0:00:01\r\u001b[K     |████████████████████▋           | 348 kB 7.4 MB/s eta 0:00:01\r\u001b[K     |█████████████████████▏          | 358 kB 7.4 MB/s eta 0:00:01\r\u001b[K     |█████████████████████▉          | 368 kB 7.4 MB/s eta 0:00:01\r\u001b[K     |██████████████████████▍         | 378 kB 7.4 MB/s eta 0:00:01\r\u001b[K     |███████████████████████         | 389 kB 7.4 MB/s eta 0:00:01\r\u001b[K     |███████████████████████▋        | 399 kB 7.4 MB/s eta 0:00:01\r\u001b[K     |████████████████████████▏       | 409 kB 7.4 MB/s eta 0:00:01\r\u001b[K     |████████████████████████▉       | 419 kB 7.4 MB/s eta 0:00:01\r\u001b[K     |█████████████████████████▍      | 430 kB 7.4 MB/s eta 0:00:01\r\u001b[K     |██████████████████████████      | 440 kB 7.4 MB/s eta 0:00:01\r\u001b[K     |██████████████████████████▋     | 450 kB 7.4 MB/s eta 0:00:01\r\u001b[K     |███████████████████████████▎    | 460 kB 7.4 MB/s eta 0:00:01\r\u001b[K     |███████████████████████████▉    | 471 kB 7.4 MB/s eta 0:00:01\r\u001b[K     |████████████████████████████▍   | 481 kB 7.4 MB/s eta 0:00:01\r\u001b[K     |█████████████████████████████   | 491 kB 7.4 MB/s eta 0:00:01\r\u001b[K     |█████████████████████████████▋  | 501 kB 7.4 MB/s eta 0:00:01\r\u001b[K     |██████████████████████████████▎ | 512 kB 7.4 MB/s eta 0:00:01\r\u001b[K     |██████████████████████████████▉ | 522 kB 7.4 MB/s eta 0:00:01\r\u001b[K     |███████████████████████████████▌| 532 kB 7.4 MB/s eta 0:00:01\r\u001b[K     |████████████████████████████████| 541 kB 7.4 MB/s \n",
            "\u001b[?25hRequirement already satisfied: gdown in /usr/local/lib/python3.7/dist-packages (from napkinxc) (4.4.0)\n",
            "Requirement already satisfied: scipy in /usr/local/lib/python3.7/dist-packages (from napkinxc) (1.4.1)\n",
            "Requirement already satisfied: numpy in /usr/local/lib/python3.7/dist-packages (from napkinxc) (1.21.6)\n",
            "Requirement already satisfied: beautifulsoup4 in /usr/local/lib/python3.7/dist-packages (from gdown->napkinxc) (4.6.3)\n",
            "Requirement already satisfied: requests[socks] in /usr/local/lib/python3.7/dist-packages (from gdown->napkinxc) (2.23.0)\n",
            "Requirement already satisfied: filelock in /usr/local/lib/python3.7/dist-packages (from gdown->napkinxc) (3.6.0)\n",
            "Requirement already satisfied: tqdm in /usr/local/lib/python3.7/dist-packages (from gdown->napkinxc) (4.64.0)\n",
            "Requirement already satisfied: six in /usr/local/lib/python3.7/dist-packages (from gdown->napkinxc) (1.15.0)\n",
            "Requirement already satisfied: chardet<4,>=3.0.2 in /usr/local/lib/python3.7/dist-packages (from requests[socks]->gdown->napkinxc) (3.0.4)\n",
            "Requirement already satisfied: certifi>=2017.4.17 in /usr/local/lib/python3.7/dist-packages (from requests[socks]->gdown->napkinxc) (2021.10.8)\n",
            "Requirement already satisfied: urllib3!=1.25.0,!=1.25.1,<1.26,>=1.21.1 in /usr/local/lib/python3.7/dist-packages (from requests[socks]->gdown->napkinxc) (1.24.3)\n",
            "Requirement already satisfied: idna<3,>=2.5 in /usr/local/lib/python3.7/dist-packages (from requests[socks]->gdown->napkinxc) (2.10)\n",
            "Requirement already satisfied: PySocks!=1.5.7,>=1.5.6 in /usr/local/lib/python3.7/dist-packages (from requests[socks]->gdown->napkinxc) (1.7.1)\n",
            "Installing collected packages: napkinxc\n",
            "Successfully installed napkinxc-0.6.0\n"
          ]
        }
      ]
    },
    {
      "cell_type": "code",
      "execution_count": null,
      "metadata": {
        "id": "pTSgaeLaUTEj",
        "colab": {
          "base_uri": "https://localhost:8080/"
        },
        "outputId": "760952f1-59e7-40a8-864a-e9fac8e00b2d"
      },
      "outputs": [
        {
          "output_type": "stream",
          "name": "stdout",
          "text": [
            "----------------------------------------------------\n",
            "Performance Metrics of Test Data with BR Classifier : Accuracy : 96.774194 , Recall : 96.774194 , Precision : 96.774194, F1 Score: 96.774194\n",
            "----------------------------------------------------\n"
          ]
        }
      ],
      "source": [
        "from napkinxc.models import BR,OVR\n",
        "from napkinxc.measures import precision_at_k\n",
        "import pandas as pd\n",
        "from sklearn.preprocessing import StandardScaler\n",
        "from sklearn.model_selection import train_test_split\n",
        "from scipy.sparse import csr_matrix\n",
        "from sklearn.metrics import confusion_matrix, accuracy_score,precision_score,recall_score,f1_score\n",
        "\n",
        "df = pd.read_csv('zoo.csv',\n",
        "                      names=['animal_name','hair','feathers','eggs','milk',\n",
        "                                                   'airbone','aquatic','predator','toothed','backbone',\n",
        "                                                  'breathes','venomous','fins','legs','tail','domestic','catsize','class',])\n",
        "\n",
        "\n",
        "\n",
        "#We drop the animal names since this is not a good feature to split the data on\n",
        "df=df.drop('animal_name',axis=1)\n",
        "\n",
        "\n",
        "#split the data to train and test by using cross validation\n",
        "train, test = train_test_split(df, test_size=0.3 , random_state=1)\n",
        "\n",
        "X_train = train.drop(\"class\",axis=1)\n",
        "X_train = (X_train).to_numpy()\n",
        "y_train = train[\"class\"]\n",
        "y_train =y_train.to_numpy()\n",
        "X_test = test.drop(\"class\",axis=1)\n",
        "X_test = X_test.to_numpy()\n",
        "y_test = test[\"class\"]\n",
        "y_test = y_test.to_numpy()\n",
        "\n",
        "\n",
        "br = BR(\"/data\")\n",
        "br.fit(X_train, y_train)\n",
        "y_br = br.predict(X_test, top_k=1)\n",
        "print('----------------------------------------------------')\n",
        "print('Performance Metrics of Test Data with BR Classifier : Accuracy : %f , Recall : %f , Precision : %f, F1 Score: %f' % (accuracy_score(y_test, y_br)*100, recall_score(y_test, y_br,average='micro')*100, precision_score(y_test, y_br,average='micro')*100, f1_score(y_test, y_br,average='micro')*100) )\n",
        "print('----------------------------------------------------')\n"
      ]
    },
    {
      "cell_type": "code",
      "source": [
        "ovr = OVR(\"/data\")\n",
        "ovr.fit(X_train, y_train)\n",
        "y_ovr = ovr.predict(X_test, top_k=1)\n",
        "print('----------------------------------------------------')\n",
        "print('Performance Metrics of Test Data with OVR Classifier : Accuracy : %f , Recall : %f , Precision : %f, F1 Score: %f' % (accuracy_score(y_test, y_ovr)*100, recall_score(y_test, y_ovr,average='micro')*100, precision_score(y_test, y_ovr,average='micro')*100, f1_score(y_test, y_ovr,average='micro')*100) )\n",
        "print('----------------------------------------------------')\n",
        "\n"
      ],
      "metadata": {
        "colab": {
          "base_uri": "https://localhost:8080/"
        },
        "id": "sjbv-gaoeQaE",
        "outputId": "39cc38c0-1bef-44f1-e294-5eced37f6358"
      },
      "execution_count": null,
      "outputs": [
        {
          "output_type": "stream",
          "name": "stdout",
          "text": [
            "----------------------------------------------------\n",
            "Performance Metrics of Test Data with OVR Classifier : Accuracy : 100.000000 , Recall : 100.000000 , Precision : 100.000000, F1 Score: 100.000000\n",
            "----------------------------------------------------\n"
          ]
        }
      ]
    },
    {
      "cell_type": "code",
      "source": [
        "from napkinxc.datasets import load_dataset\n",
        "from napkinxc.models import PLT\n",
        "from napkinxc.measures import precision_at_k\n",
        "\n",
        "X_train, Y_train = load_dataset(\"eurlex-4k\", \"train\")\n",
        "X_test, Y_test = load_dataset(\"eurlex-4k\", \"test\")\n",
        "plt = PLT(\"eurlex-model\")\n",
        "plt.fit(X_train, Y_train)\n",
        "Y_pred = plt.predict(X_test, top_k=1)\n",
        "print(precision_at_k(Y_test, Y_pred, k=1)) "
      ],
      "metadata": {
        "colab": {
          "base_uri": "https://localhost:8080/"
        },
        "id": "wiE1zBYIWox1",
        "outputId": "89d86761-d1b6-4cfa-ab3c-f7800e3a1977"
      },
      "execution_count": null,
      "outputs": [
        {
          "output_type": "stream",
          "name": "stdout",
          "text": [
            "[0.8065109]\n"
          ]
        }
      ]
    }
  ]
}
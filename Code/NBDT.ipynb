{
  "nbformat": 4,
  "nbformat_minor": 0,
  "metadata": {
    "colab": {
      "name": "NBDT.ipynb",
      "provenance": [],
      "collapsed_sections": []
    },
    "kernelspec": {
      "name": "python3",
      "display_name": "Python 3"
    },
    "language_info": {
      "name": "python"
    }
  },
  "cells": [
    {
      "cell_type": "code",
      "execution_count": null,
      "metadata": {
        "colab": {
          "base_uri": "https://localhost:8080/"
        },
        "id": "VRkaIcAGcPQx",
        "outputId": "c08e2b40-75c9-4559-c831-28034ce2ca2f"
      },
      "outputs": [
        {
          "output_type": "stream",
          "name": "stdout",
          "text": [
            "Collecting nbdt\n",
            "  Downloading nbdt-0.0.4.tar.gz (119 kB)\n",
            "\u001b[K     |████████████████████████████████| 119 kB 5.1 MB/s \n",
            "\u001b[?25hCollecting pytorchcv\n",
            "  Downloading pytorchcv-0.0.67-py2.py3-none-any.whl (532 kB)\n",
            "\u001b[K     |████████████████████████████████| 532 kB 40.1 MB/s \n",
            "\u001b[?25hRequirement already satisfied: torch in /usr/local/lib/python3.7/dist-packages (from nbdt) (1.11.0+cu113)\n",
            "Requirement already satisfied: torchvision in /usr/local/lib/python3.7/dist-packages (from nbdt) (0.12.0+cu113)\n",
            "Requirement already satisfied: nltk in /usr/local/lib/python3.7/dist-packages (from nbdt) (3.2.5)\n",
            "Requirement already satisfied: scikit-learn in /usr/local/lib/python3.7/dist-packages (from nbdt) (1.0.2)\n",
            "Requirement already satisfied: networkx in /usr/local/lib/python3.7/dist-packages (from nbdt) (2.6.3)\n",
            "Requirement already satisfied: six in /usr/local/lib/python3.7/dist-packages (from nltk->nbdt) (1.15.0)\n",
            "Requirement already satisfied: numpy in /usr/local/lib/python3.7/dist-packages (from pytorchcv->nbdt) (1.21.6)\n",
            "Requirement already satisfied: requests in /usr/local/lib/python3.7/dist-packages (from pytorchcv->nbdt) (2.23.0)\n",
            "Requirement already satisfied: urllib3!=1.25.0,!=1.25.1,<1.26,>=1.21.1 in /usr/local/lib/python3.7/dist-packages (from requests->pytorchcv->nbdt) (1.24.3)\n",
            "Requirement already satisfied: certifi>=2017.4.17 in /usr/local/lib/python3.7/dist-packages (from requests->pytorchcv->nbdt) (2021.10.8)\n",
            "Requirement already satisfied: idna<3,>=2.5 in /usr/local/lib/python3.7/dist-packages (from requests->pytorchcv->nbdt) (2.10)\n",
            "Requirement already satisfied: chardet<4,>=3.0.2 in /usr/local/lib/python3.7/dist-packages (from requests->pytorchcv->nbdt) (3.0.4)\n",
            "Requirement already satisfied: scipy>=1.1.0 in /usr/local/lib/python3.7/dist-packages (from scikit-learn->nbdt) (1.4.1)\n",
            "Requirement already satisfied: joblib>=0.11 in /usr/local/lib/python3.7/dist-packages (from scikit-learn->nbdt) (1.1.0)\n",
            "Requirement already satisfied: threadpoolctl>=2.0.0 in /usr/local/lib/python3.7/dist-packages (from scikit-learn->nbdt) (3.1.0)\n",
            "Requirement already satisfied: typing-extensions in /usr/local/lib/python3.7/dist-packages (from torch->nbdt) (4.2.0)\n",
            "Requirement already satisfied: pillow!=8.3.*,>=5.3.0 in /usr/local/lib/python3.7/dist-packages (from torchvision->nbdt) (7.1.2)\n",
            "Building wheels for collected packages: nbdt\n",
            "  Building wheel for nbdt (setup.py) ... \u001b[?25l\u001b[?25hdone\n",
            "  Created wheel for nbdt: filename=nbdt-0.0.4-py3-none-any.whl size=132338 sha256=b3f9e545b053ec7fd5295b42eff2a7cb1ad58f731f765c81d1e5832f5cd22f4f\n",
            "  Stored in directory: /root/.cache/pip/wheels/1f/3f/10/02973cef706abb89dd9ed79337887e7eeddd4ebbb36f6cfa2b\n",
            "Successfully built nbdt\n",
            "Installing collected packages: pytorchcv, nbdt\n",
            "Successfully installed nbdt-0.0.4 pytorchcv-0.0.67\n"
          ]
        }
      ],
      "source": [
        "%pip install nbdt"
      ]
    },
    {
      "cell_type": "code",
      "source": [
        "from nbdt.model import SoftNBDT\n",
        "from nbdt.models import ResNet18, wrn28_10_cifar10, wrn28_10_cifar100, wrn28_10\n",
        "from torchvision import transforms\n",
        "from nbdt.utils import DATASET_TO_CLASSES, load_image_from_path, maybe_install_wordnet\n",
        "from IPython.display import display\n",
        "\n",
        "model = wrn28_10_cifar10()\n",
        "model = SoftNBDT(\n",
        "  pretrained=True,\n",
        "  dataset='CIFAR10',\n",
        "  arch='wrn28_10_cifar10',\n",
        "  model=model)\n",
        "\n",
        "image_urls = [\n",
        "    {'label':'cat', 'url':'https://images.pexels.com/photos/126407/pexels-photo-126407.jpeg?auto=compress&cs=tinysrgb&dpr=2&w=300'},\n",
        "    {'label':'bear', 'url':'https://images.pexels.com/photos/158109/kodiak-brown-bear-adult-portrait-wildlife-158109.jpeg?auto=compress&cs=tinysrgb&dpr=2&w=300'},\n",
        "    {'label':'dog', 'url':'https://images.pexels.com/photos/1490908/pexels-photo-1490908.jpeg?auto=compress&cs=tinysrgb&dpr=2&w=300'},\n",
        "    {'label':'zebra', 'url':'https://cdn.pixabay.com/photo/2022/02/06/13/31/animal-6997104_960_720.jpg'},\n",
        "    {'label':'bird', 'url':'https://cdn.pixabay.com/photo/2017/02/07/16/47/kingfisher-2046453_960_720.jpg'},\n",
        "    {'label':'eagle', 'url':'https://cdn.pixabay.com/photo/2021/07/20/18/19/bald-eagle-6481346_960_720.jpg'},\n",
        "    {'label':'wolf', 'url':'https://cdn.pixabay.com/photo/2013/06/29/21/18/wolf-142173_960_720.jpg'},\n",
        "    {'label':'deer', 'url':'https://cdn.pixabay.com/photo/2017/04/27/03/52/deer-2264354_960_720.jpg'},\n",
        "    {'label':'elephant', 'url':'https://cdn.pixabay.com/photo/2013/05/29/22/25/elephant-114543_960_720.jpg'},\n",
        "    {'label':'dog', 'url':'https://cdn.pixabay.com/photo/2016/02/18/18/37/puppy-1207816_960_720.jpg'},  \n",
        "    {'label':'fox', 'url':'https://cdn.pixabay.com/photo/2015/04/10/01/41/fox-715588_960_720.jpg'},\n",
        "    {'label':'fish', 'url':'https://cdn.pixabay.com/photo/2018/04/15/17/45/fish-3322230_960_720.jpg'},\n",
        "    {'label':'vehicle', 'url':'https://cdn.pixabay.com/photo/2017/03/27/14/56/auto-2179220_960_720.jpg'},\n",
        "    {'label':'dog', 'url':'https://cdn.pixabay.com/photo/2016/03/27/21/16/pet-1284307_960_720.jpg'},  \n",
        "    {'label':'ship', 'url':'https://cdn.pixabay.com/photo/2016/08/08/15/08/cruise-1578528_960_720.jpg'},\n",
        "    {'label':'ship', 'url':'https://cdn.pixabay.com/photo/2015/09/22/19/00/ship-952292_960_720.jpg'},\n",
        "    {'label':'truck', 'url':'https://cdn.pixabay.com/photo/2016/11/21/16/37/loader-1846346_960_720.jpg'},\n",
        "    {'label':'frog', 'url':'https://cdn.pixabay.com/photo/2017/07/21/15/07/frog-2525994_960_720.jpg'},\n",
        "    {'label':'horse', 'url':'https://cdn.pixabay.com/photo/2017/02/13/20/21/horse-2063672_960_720.jpg'},\n",
        "    {'label':'horse', 'url':'https://cdn.pixabay.com/photo/2021/06/20/17/48/horse-6351668_960_720.jpg'},\n",
        "    {'label':'airplane', 'url':'https://cdn.pixabay.com/photo/2017/03/27/13/51/air-force-2178863_960_720.jpg'},\n",
        "    {'label':'human', 'url':'https://cdn.pixabay.com/photo/2016/03/27/21/52/woman-1284411_960_720.jpg'},\n",
        "    {'label':'dog', 'url':'https://cdn.pixabay.com/photo/2015/11/17/13/13/puppy-1047521_960_720.jpg'},    \n",
        "]\n",
        "\n",
        "transforms = transforms.Compose([\n",
        "  transforms.Resize(32),\n",
        "  transforms.CenterCrop(32),\n",
        "  transforms.ToTensor(),\n",
        "  transforms.Normalize((0.4914, 0.4822, 0.4465), (0.2023, 0.1994, 0.2010)),\n",
        "])\n",
        "\n",
        "for img in image_urls: \n",
        "  im = load_image_from_path(img['url'])   \n",
        "  x = transforms(im)[None]\n",
        "  outputs = model(x)\n",
        "  _, predicted = outputs.max(1)\n",
        "  cls = DATASET_TO_CLASSES['CIFAR10'][predicted[0]]\n",
        "  print(\"Actual label is %s and Predicted  is %s\" % (img['label'],cls))"
      ],
      "metadata": {
        "colab": {
          "base_uri": "https://localhost:8080/"
        },
        "id": "jscINB_vcXx0",
        "outputId": "4bf8d769-6e9a-4993-896c-44f19433288f"
      },
      "execution_count": null,
      "outputs": [
        {
          "output_type": "stream",
          "name": "stdout",
          "text": [
            "Actual label is cat and Predicted  is cat\n",
            "Actual label is bear and Predicted  is dog\n",
            "Actual label is dog and Predicted  is dog\n",
            "Actual label is zebra and Predicted  is horse\n",
            "Actual label is bird and Predicted  is bird\n",
            "Actual label is eagle and Predicted  is bird\n",
            "Actual label is wolf and Predicted  is deer\n",
            "Actual label is deer and Predicted  is deer\n",
            "Actual label is elephant and Predicted  is horse\n",
            "Actual label is dog and Predicted  is dog\n",
            "Actual label is fox and Predicted  is cat\n",
            "Actual label is fish and Predicted  is bird\n",
            "Actual label is vehicle and Predicted  is automobile\n",
            "Actual label is dog and Predicted  is dog\n",
            "Actual label is ship and Predicted  is ship\n",
            "Actual label is ship and Predicted  is ship\n",
            "Actual label is truck and Predicted  is truck\n",
            "Actual label is frog and Predicted  is frog\n",
            "Actual label is horse and Predicted  is horse\n",
            "Actual label is horse and Predicted  is horse\n",
            "Actual label is airplane and Predicted  is airplane\n",
            "Actual label is human and Predicted  is cat\n",
            "Actual label is dog and Predicted  is dog\n"
          ]
        }
      ]
    },
    {
      "cell_type": "markdown",
      "source": [
        "Reference : https://github.com/alvinwan/neural-backed-decision-trees"
      ],
      "metadata": {
        "id": "ACUZjk58TsGa"
      }
    }
  ]
}
{
  "cells": [
    {
      "cell_type": "markdown",
      "metadata": {
        "id": "ldFJzO91eQG1"
      },
      "source": [
        "FRUIT Classification using different algorithms"
      ]
    },
    {
      "cell_type": "code",
      "execution_count": null,
      "metadata": {
        "id": "PVOlLAB5pkdT"
      },
      "outputs": [],
      "source": [
        "import numpy as np \n",
        "import cv2\n",
        "import glob\n",
        "import os\n",
        "from sklearn.preprocessing import StandardScaler\n",
        "from sklearn.neighbors import KNeighborsClassifier\n",
        "from sklearn.tree import DecisionTreeClassifier\n",
        "from sklearn.ensemble import RandomForestClassifier\n",
        "from sklearn import metrics\n",
        "from sklearn.svm import SVC\n",
        "from sklearn.metrics import confusion_matrix, accuracy_score,precision_score,recall_score,f1_score\n",
        "dim = 100\n",
        "\n",
        "\n",
        "def getYourFruits(fruits, data_type, print_n=False, k_fold=False):\n",
        "    images = []\n",
        "    labels = []\n",
        "    val = ['Training', 'Test']\n",
        "    if not k_fold:\n",
        "        path = \"datasets/fruits-360_dataset/fruits-360/\" + data_type + \"/\"        \n",
        "        for i,f in enumerate(fruits):\n",
        "            p = path + f\n",
        "            j=0\n",
        "            for image_path in glob.glob(os.path.join(p, \"*.jpg\")):\n",
        "                image = cv2.imread(image_path, cv2.IMREAD_COLOR)\n",
        "                image = cv2.resize(image, (dim, dim))\n",
        "                image = cv2.cvtColor(image, cv2.COLOR_RGB2BGR)\n",
        "                images.append(image)\n",
        "                labels.append(i)\n",
        "                j+=1\n",
        "            if(print_n):\n",
        "                print(\"There are \" , j , \" \" , data_type.upper(), \" images of \" , fruits[i].upper())\n",
        "        images = np.array(images)\n",
        "        labels = np.array(labels)\n",
        "        return images, labels\n",
        "    else:\n",
        "        for v in val:\n",
        "            path = \"datasets/fruits-360_dataset/fruits-360/\" + v + \"/\"\n",
        "            for i,f in enumerate(fruits):\n",
        "                p = path + f\n",
        "                print(p)\n",
        "                j=0\n",
        "                for image_path in glob.glob(os.path.join(p, \"*.jpg\")):\n",
        "                    image = cv2.imread(image_path, cv2.IMREAD_COLOR)\n",
        "                    image = cv2.resize(image, (dim, dim))\n",
        "                    image = cv2.cvtColor(image, cv2.COLOR_RGB2BGR)\n",
        "                    images.append(image)\n",
        "                    labels.append(i)\n",
        "                    j+=1\n",
        "        images = np.array(images)\n",
        "        labels = np.array(labels)\n",
        "        return images, labels\n",
        "    \n",
        "def getAllFruits():\n",
        "    fruits = []\n",
        "    for fruit_path in glob.glob(\"datasets/fruits-360_dataset/fruits-360/Training/*\"):\n",
        "        print(fruit_path)\n",
        "        fruit = fruit_path.split(\"/\")[-1]\n",
        "        fruits.append(fruit)\n",
        "    return fruits\n",
        "    "
      ]
    },
    {
      "cell_type": "code",
      "execution_count": null,
      "metadata": {
        "id": "FYADkS5RXzpa",
        "outputId": "f43a880c-3162-499b-8970-b47d561eefef"
      },
      "outputs": [
        {
          "name": "stdout",
          "output_type": "stream",
          "text": [
            "There are  490   TRAINING  images of  PINEAPPLE\n",
            "There are  490   TRAINING  images of  COCOS\n",
            "There are  166   TEST  images of  PINEAPPLE\n",
            "There are  166   TEST  images of  COCOS\n",
            "datasets/fruits-360_dataset/fruits-360/Training/Pineapple\n",
            "datasets/fruits-360_dataset/fruits-360/Training/Cocos\n",
            "datasets/fruits-360_dataset/fruits-360/Test/Pineapple\n",
            "datasets/fruits-360_dataset/fruits-360/Test/Cocos\n"
          ]
        }
      ],
      "source": [
        "#Choose your Fruits\n",
        "fruits = ['Pineapple' , 'Cocos'] #Binary classification\n",
        "\n",
        "#Get Images and Labels \n",
        "X_t, y_train =  getYourFruits(fruits, 'Training', print_n=True, k_fold=False)\n",
        "X_test, y_test = getYourFruits(fruits, 'Test', print_n=True, k_fold=False)\n",
        "\n",
        "#Get data for k-fold\n",
        "X,y = getYourFruits(fruits, '', print_n=True, k_fold=True)\n",
        "\n",
        "X_original=X\n",
        "\n",
        "#Scale Data Images\n",
        "scaler = StandardScaler()\n",
        "X_train = scaler.fit_transform([i.flatten() for i in X_t])\n",
        "X_test = scaler.fit_transform([i.flatten() for i in X_test])\n",
        "X = scaler.fit_transform([i.flatten() for i in X])"
      ]
    },
    {
      "cell_type": "markdown",
      "metadata": {
        "id": "un1RhU3st0QX"
      },
      "source": [
        "MULTI-CLASS CLASSIFICATION"
      ]
    },
    {
      "cell_type": "code",
      "execution_count": null,
      "metadata": {
        "id": "SZZ9rgaut3Y9",
        "outputId": "f9b96090-2b83-4d74-ec11-6ef210fa28a1"
      },
      "outputs": [
        {
          "name": "stdout",
          "output_type": "stream",
          "text": [
            "Performance Metrics of Test Data with SVM : Accuracy : 99.363369 , Recall : 99.363369 , Precision : 99.363369, F1 Score: 99.363369\n",
            "----------------------------------------------------\n",
            "Performance Metrics of Test Data with KNN : Accuracy : 95.886386 , Recall : 95.886386 , Precision : 95.886386, F1 Score: 95.886386\n",
            "----------------------------------------------------\n",
            "Performance Metrics of Test Data with Decision Tree : Accuracy : 74.387855 , Recall : 74.387855 , Precision : 74.387855, F1 Score: 74.387855\n",
            "----------------------------------------------------\n",
            "Performance Metrics of Test Data with Random Forest Classifier : Accuracy : 93.878550 , Recall : 93.878550 , Precision : 93.878550, F1 Score: 93.878550\n",
            "----------------------------------------------------\n"
          ]
        }
      ],
      "source": [
        "fruits = ['Orange', 'Banana' , 'Strawberry', 'Apple Golden 1', 'Kiwi' , 'Lemon', 'Cocos' , 'Pineapple' , 'Peach', 'Cherry 1', 'Cherry 2', 'Mandarine']\n",
        "\n",
        "#Get Images and Labels\n",
        "X, y =  getYourFruits(fruits, 'Training')\n",
        "X_test, y_test = getYourFruits(fruits, 'Test')\n",
        "\n",
        "#Scale Data Images\n",
        "scaler = StandardScaler()\n",
        "X_train = scaler.fit_transform([i.flatten() for i in X])\n",
        "X_test = scaler.fit_transform([i.flatten() for i in X_test])\n",
        "\n",
        "\n",
        "#SVM\n",
        "model = SVC(gamma='auto', kernel='linear')\n",
        "model.fit(X_train, y) \n",
        "y_pred = model.predict(X_test)\n",
        "print('Performance Metrics of Test Data with SVM : Accuracy : %f , Recall : %f , Precision : %f, F1 Score: %f' % (accuracy_score(y_test, y_pred)*100, recall_score(y_test, y_pred,average='micro')*100, precision_score(y_test, y_pred,average='micro')*100, f1_score(y_test, y_pred,average='micro')*100) )\n",
        "print('----------------------------------------------------')\n",
        "#K-NN\n",
        "model = KNeighborsClassifier(n_neighbors=5)\n",
        "model.fit(X_train, y)\n",
        "y_pred = model.predict(X_test)\n",
        "print('Performance Metrics of Test Data with KNN : Accuracy : %f , Recall : %f , Precision : %f, F1 Score: %f' % (accuracy_score(y_test, y_pred)*100, recall_score(y_test, y_pred,average='micro')*100, precision_score(y_test, y_pred,average='micro')*100, f1_score(y_test, y_pred,average='micro')*100) )\n",
        "print('----------------------------------------------------')\n",
        "\n",
        "#DECISION TREE\n",
        "model = DecisionTreeClassifier()\n",
        "model.fit(X_train,y)\n",
        "y_pred = model.predict(X_test)\n",
        "print('Performance Metrics of Test Data with Decision Tree : Accuracy : %f , Recall : %f , Precision : %f, F1 Score: %f' % (accuracy_score(y_test, y_pred)*100, recall_score(y_test, y_pred,average='micro')*100, precision_score(y_test, y_pred,average='micro')*100, f1_score(y_test, y_pred,average='micro')*100) )\n",
        "print('----------------------------------------------------')\n",
        "\n",
        "#RandomForest\n",
        "forest = RandomForestClassifier(n_estimators = 10,min_samples_split = 2)\n",
        "forest.fit(X_train, y)\n",
        "y_pred = forest.predict(X_test)\n",
        "print('Performance Metrics of Test Data with Random Forest Classifier : Accuracy : %f , Recall : %f , Precision : %f, F1 Score: %f' % (accuracy_score(y_test, y_pred)*100, recall_score(y_test, y_pred,average='micro')*100, precision_score(y_test, y_pred,average='micro')*100, f1_score(y_test, y_pred,average='micro')*100) )\n",
        "print('----------------------------------------------------')"
      ]
    },
    {
      "cell_type": "markdown",
      "metadata": {
        "id": "v22N8Pi_lCGD"
      },
      "source": [
        "Hierarchical softmax"
      ]
    },
    {
      "cell_type": "code",
      "execution_count": null,
      "metadata": {
        "id": "YfdFdtMVlCGD",
        "outputId": "fb144b9f-1969-4634-9f6e-4799cc9c7c55"
      },
      "outputs": [
        {
          "name": "stdout",
          "output_type": "stream",
          "text": [
            "Requirement already satisfied: napkinxc in c:\\users\\nagat\\appdata\\local\\programs\\python\\python39\\lib\\site-packages (0.6.0)Note: you may need to restart the kernel to use updated packages.\n",
            "\n",
            "Requirement already satisfied: scipy in c:\\users\\nagat\\appdata\\local\\programs\\python\\python39\\lib\\site-packages (from napkinxc) (1.7.1)\n",
            "Requirement already satisfied: numpy in c:\\users\\nagat\\appdata\\local\\programs\\python\\python39\\lib\\site-packages (from napkinxc) (1.21.4)\n",
            "Requirement already satisfied: gdown in c:\\users\\nagat\\appdata\\local\\programs\\python\\python39\\lib\\site-packages (from napkinxc) (4.4.0)\n",
            "Requirement already satisfied: six in c:\\users\\nagat\\appdata\\local\\programs\\python\\python39\\lib\\site-packages (from gdown->napkinxc) (1.16.0)\n",
            "Requirement already satisfied: filelock in c:\\users\\nagat\\appdata\\local\\programs\\python\\python39\\lib\\site-packages (from gdown->napkinxc) (3.6.0)\n",
            "Requirement already satisfied: beautifulsoup4 in c:\\users\\nagat\\appdata\\local\\programs\\python\\python39\\lib\\site-packages (from gdown->napkinxc) (4.10.0)\n",
            "Requirement already satisfied: tqdm in c:\\users\\nagat\\appdata\\local\\programs\\python\\python39\\lib\\site-packages (from gdown->napkinxc) (4.64.0)\n",
            "Requirement already satisfied: requests[socks] in c:\\users\\nagat\\appdata\\local\\programs\\python\\python39\\lib\\site-packages (from gdown->napkinxc) (2.26.0)\n",
            "Requirement already satisfied: soupsieve>1.2 in c:\\users\\nagat\\appdata\\local\\programs\\python\\python39\\lib\\site-packages (from beautifulsoup4->gdown->napkinxc) (2.3.1)\n",
            "Requirement already satisfied: certifi>=2017.4.17 in c:\\users\\nagat\\appdata\\local\\programs\\python\\python39\\lib\\site-packages (from requests[socks]->gdown->napkinxc) (2021.10.8)\n",
            "Requirement already satisfied: charset-normalizer~=2.0.0 in c:\\users\\nagat\\appdata\\local\\programs\\python\\python39\\lib\\site-packages (from requests[socks]->gdown->napkinxc) (2.0.8)\n",
            "Requirement already satisfied: idna<4,>=2.5 in c:\\users\\nagat\\appdata\\local\\programs\\python\\python39\\lib\\site-packages (from requests[socks]->gdown->napkinxc) (3.3)\n",
            "Requirement already satisfied: urllib3<1.27,>=1.21.1 in c:\\users\\nagat\\appdata\\local\\programs\\python\\python39\\lib\\site-packages (from requests[socks]->gdown->napkinxc) (1.26.7)\n",
            "Requirement already satisfied: PySocks!=1.5.7,>=1.5.6 in c:\\users\\nagat\\appdata\\local\\programs\\python\\python39\\lib\\site-packages (from requests[socks]->gdown->napkinxc) (1.7.1)\n",
            "Requirement already satisfied: colorama in c:\\users\\nagat\\appdata\\roaming\\python\\python39\\site-packages (from tqdm->gdown->napkinxc) (0.4.4)\n"
          ]
        },
        {
          "name": "stderr",
          "output_type": "stream",
          "text": [
            "WARNING: You are using pip version 22.0.3; however, version 22.0.4 is available.\n",
            "You should consider upgrading via the 'C:\\Users\\nagat\\AppData\\Local\\Programs\\Python\\Python39\\python.exe -m pip install --upgrade pip' command.\n"
          ]
        }
      ],
      "source": [
        "pip install napkinxc"
      ]
    },
    {
      "cell_type": "code",
      "execution_count": null,
      "metadata": {
        "id": "wbdDgU21lCGE",
        "outputId": "2ed3698f-37a2-42f3-eade-e0afd58f7433"
      },
      "outputs": [
        {
          "name": "stdout",
          "output_type": "stream",
          "text": [
            "----------------------------------------------------\n",
            "Performance Metrics of Test Data with HSM Classifier : Accuracy : 99.020568 , Recall : 99.020568 , Precision : 99.020568, F1 Score: 99.020568\n",
            "----------------------------------------------------\n"
          ]
        }
      ],
      "source": [
        "from napkinxc.models import HSM\n",
        "from napkinxc.measures import precision_at_k\n",
        "\n",
        "X_test = scaler.fit_transform([i.flatten() for i in X_test])\n",
        "hsm = HSM('/Code')\n",
        "hsm.fit(X_train, y)\n",
        "y_hsm = hsm.predict(X_test, top_k=1)\n",
        "print('----------------------------------------------------')\n",
        "print('Performance Metrics of Test Data with HSM Classifier : Accuracy : %f , Recall : %f , Precision : %f, F1 Score: %f' % (accuracy_score(y_test, y_hsm)*100, recall_score(y_test, y_hsm,average='micro')*100, precision_score(y_test, y_hsm,average='micro')*100, f1_score(y_test, y_hsm,average='micro')*100) )\n",
        "print('----------------------------------------------------')\n"
      ]
    }
  ],
  "metadata": {
    "colab": {
      "collapsed_sections": [],
      "name": "Fruit_data_classification.ipynb",
      "provenance": []
    },
    "kernelspec": {
      "display_name": "Python 3",
      "name": "python3"
    },
    "language_info": {
      "codemirror_mode": {
        "name": "ipython",
        "version": 3
      },
      "file_extension": ".py",
      "mimetype": "text/x-python",
      "name": "python",
      "nbconvert_exporter": "python",
      "pygments_lexer": "ipython3",
      "version": "3.9.7"
    }
  },
  "nbformat": 4,
  "nbformat_minor": 0
}
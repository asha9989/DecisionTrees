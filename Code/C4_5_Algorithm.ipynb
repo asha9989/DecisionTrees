{
  "nbformat": 4,
  "nbformat_minor": 0,
  "metadata": {
    "colab": {
      "name": "C4.5_Algorithm.ipynb",
      "provenance": [],
      "collapsed_sections": []
    },
    "kernelspec": {
      "name": "python3",
      "display_name": "Python 3"
    },
    "language_info": {
      "name": "python"
    }
  },
  "cells": [
    {
      "cell_type": "markdown",
      "source": [
        "This notebook contains code for C4.5 Algorithm in decision trees"
      ],
      "metadata": {
        "id": "9UsFgcWT5KK-"
      }
    },
    {
      "cell_type": "code",
      "source": [
        "class Util: \n",
        " def calculateAccuracy(predictedLabels, targetLabels):\n",
        "      count=0\n",
        "      accuracy=0        \n",
        "      for i in range(len(predictedLabels)):\n",
        "          if targetLabels[i]== predictedLabels[i]:\n",
        "            count +=1\n",
        "      return (count/len(predictedLabels))*100 \n",
        "\n",
        "\n",
        " def getPerformanceMetrics(targetLabels,predictedLabels,trueLabels):\n",
        "      tp=0\n",
        "      tn=0\n",
        "      fp=0\n",
        "      fn=0\n",
        "      accuracy=0\n",
        "      recall=0\n",
        "      specificity=0\n",
        "      precision=0\n",
        "      f1=0\n",
        "\n",
        "      for i in range(len(predictedLabels)):\n",
        "        if targetLabels[i]== predictedLabels[i]:\n",
        "          if targetLabels[i] in trueLabels:\n",
        "            tp +=1\n",
        "          else:\n",
        "            tn +=1\n",
        "        else:\n",
        "           if targetLabels[i] in trueLabels:\n",
        "             fn +=1\n",
        "           else:\n",
        "             fp +=1\n",
        "      accuracy = (tp+tn)/(tp+fn+fp+tn)\n",
        "      if(tp+fn!=0):\n",
        "        recall = tp/(tp+fn)\n",
        "      if(fp+tn!=0):\n",
        "        specificity = tn/(fp+tn)\n",
        "      if(tp+fp!=0):\n",
        "        precision = tp/(tp+fp)\n",
        "      if(precision + recall!=0):\n",
        "        f1 = 2 *((precision * recall)/(precision + recall))\n",
        "      return  (accuracy, recall,specificity, precision, f1) "
      ],
      "metadata": {
        "id": "rPpCe73Ze4xp"
      },
      "execution_count": null,
      "outputs": []
    },
    {
      "cell_type": "code",
      "source": [
        "!pip install chefboost\n",
        "\n",
        "import pandas as pd\n",
        "import matplotlib.pyplot as plt\n",
        "import numpy as np\n",
        "from warnings import filterwarnings\n",
        "from sklearn.preprocessing import StandardScaler\n",
        "from sklearn.model_selection import train_test_split\n",
        "from numpy import log2 as log\n",
        "import pprint\n",
        "from chefboost import Chefboost as chef\n",
        "\n",
        "eps = np.finfo(float).eps\n",
        "\n",
        "def decisionTree(df,train):\n",
        "  config = {'algorithm' : 'C4.5'}\n",
        "  tree = chef.fit(df.copy(),config)\n",
        "  return tree\n",
        "\n",
        "def makePrediction(tree,df,test,targetClass,trueLabels):\n",
        "  #  Perform the prediction using the built tree\n",
        "  col_names = df.columns\n",
        "  test_dict = {}\n",
        "\n",
        "  i=0;\n",
        "\n",
        "  predicted_values = []\n",
        "  target_values = []\n",
        "\n",
        "  for index, row in test.iterrows():\n",
        "      # print(row['c1'], row['c2'])\n",
        "      predicted_values.append(chef.predict(tree,row)) \n",
        "      target_values.append(row[targetClass])   \n",
        "\n",
        "  # print('predicted_values are ' + str(predicted_values))\n",
        "  # print('target_values are ' + str(target_values))\n",
        "\n",
        "  # accuracy\n",
        "  testAccuracy = Util.calculateAccuracy(predicted_values, target_values) \n",
        "  print('Accuracy is: %f' % testAccuracy)\n",
        "\n",
        "  accuracy, recall,specificity, precision, f1 = Util.getPerformanceMetrics(target_values,predicted_values,trueLabels)\n",
        "\n",
        "  print('Performance Metrics of Test Data : Accuracy : %f , Recall : %f ,Specificity: %f , Precision : %f, F1 Score: %f' % (accuracy, recall,specificity, precision, f1) )\n",
        "\n"
      ],
      "metadata": {
        "id": "AskHqfDvpTBG",
        "colab": {
          "base_uri": "https://localhost:8080/"
        },
        "outputId": "b5471228-06c4-43da-df93-994c6c406481"
      },
      "execution_count": null,
      "outputs": [
        {
          "output_type": "stream",
          "name": "stdout",
          "text": [
            "Requirement already satisfied: chefboost in /usr/local/lib/python3.7/dist-packages (0.0.17)\n",
            "Requirement already satisfied: tqdm>=4.30.0 in /usr/local/lib/python3.7/dist-packages (from chefboost) (4.64.0)\n",
            "Requirement already satisfied: psutil>=5.4.3 in /usr/local/lib/python3.7/dist-packages (from chefboost) (5.4.8)\n",
            "Requirement already satisfied: pandas>=0.22.0 in /usr/local/lib/python3.7/dist-packages (from chefboost) (1.3.5)\n",
            "Requirement already satisfied: numpy>=1.14.0 in /usr/local/lib/python3.7/dist-packages (from chefboost) (1.21.6)\n",
            "Requirement already satisfied: pytz>=2017.3 in /usr/local/lib/python3.7/dist-packages (from pandas>=0.22.0->chefboost) (2022.1)\n",
            "Requirement already satisfied: python-dateutil>=2.7.3 in /usr/local/lib/python3.7/dist-packages (from pandas>=0.22.0->chefboost) (2.8.2)\n",
            "Requirement already satisfied: six>=1.5 in /usr/local/lib/python3.7/dist-packages (from python-dateutil>=2.7.3->pandas>=0.22.0->chefboost) (1.15.0)\n"
          ]
        }
      ]
    },
    {
      "cell_type": "code",
      "source": [
        "# Call on heart dataset which has a wide range of numerical values\n",
        "\n",
        "df=pd.read_csv(\"heart.csv\")\n",
        "# print(df['a1p2'])\n",
        "\n",
        "df.rename(columns = {'a1p2':'Decision'}, inplace = True)\n",
        "df['Decision'] = df['Decision'].apply(str)\n",
        "\n",
        "\n",
        "#split the data to train and test by using cross validation\n",
        "train, test = train_test_split(df, test_size=0.3 , random_state=1)\n",
        "\n",
        "\n",
        "\n",
        "tree = decisionTree(df,train)\n",
        "# pprint.pprint(tree)\n",
        "trueLabels = ['1']\n",
        "\n",
        "print(df['Decision'])\n",
        "\n",
        "\n",
        "makePrediction(tree,df,test,'Decision',trueLabels)\n",
        "\n"
      ],
      "metadata": {
        "colab": {
          "base_uri": "https://localhost:8080/"
        },
        "id": "MMCgmQJxGFGO",
        "outputId": "91363e2e-2f7b-4a4d-a397-a3c414f32c9d"
      },
      "execution_count": null,
      "outputs": [
        {
          "output_type": "stream",
          "name": "stdout",
          "text": [
            "[INFO]:  1 CPU cores will be allocated in parallel running\n",
            "C4.5  tree is going to be built...\n",
            "-------------------------\n",
            "finished in  16.125747203826904  seconds\n",
            "-------------------------\n",
            "Evaluate  train set\n",
            "-------------------------\n",
            "Accuracy:  94.81481481481481 % on  270  instances\n",
            "Labels:  ['1' '2']\n",
            "Confusion matrix:  [[146, 10], [4, 110]]\n",
            "Precision:  93.5897 %, Recall:  97.3333 %, F1:  95.4248 %\n",
            "0      1\n",
            "1      1\n",
            "2      1\n",
            "3      2\n",
            "4      2\n",
            "      ..\n",
            "265    1\n",
            "266    1\n",
            "267    1\n",
            "268    1\n",
            "269    2\n",
            "Name: Decision, Length: 270, dtype: object\n",
            "Accuracy is: 93.827160\n",
            "Performance Metrics of Test Data : Accuracy : 0.938272 , Recall : 0.978723 ,Specificity: 0.882353 , Precision : 0.920000, F1 Score: 0.948454\n"
          ]
        }
      ]
    },
    {
      "cell_type": "code",
      "source": [
        "# # Call on credit dataset\n",
        "\n",
        "# df = pd.read_csv('credit.csv')\n",
        "\n",
        "# #This being a numerical column is decreasing accuracy of decision tree if it is chosen as a descriptive feature\n",
        "# #Due to high information gain of this feature, it is being chosen as one of the descriptive features if not removed\n",
        "# df = df.drop(\"amount\" , axis=1) \n",
        "# df = df.drop(\"age\" , axis=1) \n",
        "\n",
        "# df.rename(columns = {'default':'Decision'}, inplace = True)\n",
        "# # df['Decision'] = df['Decision'].apply(str)\n",
        "\n",
        "\n",
        "\n",
        "# #split the data to train and test by using cross validation\n",
        "# train, test = train_test_split(df, test_size=0.3 , random_state=1)\n",
        "\n",
        "# tree = decisionTree(df,train)\n",
        "# # pprint.pprint(tree)\n",
        "\n",
        "# trueLabels = ['yes']\n",
        "# makePrediction(tree,df,test,'Decision',trueLabels)\n"
      ],
      "metadata": {
        "id": "6QfRYhjYUvmi"
      },
      "execution_count": null,
      "outputs": []
    },
    {
      "cell_type": "markdown",
      "source": [
        "C4.5 Performance on Multiclass classification\n",
        "Zoo dataset - https://archive.ics.uci.edu/ml/datasets/zoo"
      ],
      "metadata": {
        "id": "U0FiVYfF1efE"
      }
    },
    {
      "cell_type": "code",
      "source": [
        "# Call on UCI zoo dataset for multiclass\n",
        "\n",
        "df = pd.read_csv('zoo.csv',\n",
        "                      names=['animal_name','hair','feathers','eggs','milk',\n",
        "                                                   'airbone','aquatic','predator','toothed','backbone',\n",
        "                                                  'breathes','venomous','fins','legs','tail','domestic','catsize','class',])\n",
        "\n",
        "\n",
        "\n",
        "#We drop the animal names since this is not a good feature to split the data on\n",
        "df=df.drop('animal_name',axis=1)\n",
        "\n",
        "df.rename(columns = {'class':'Decision'}, inplace = True)\n",
        "df['Decision'] = df['Decision'].apply(str)\n",
        "\n",
        "\n",
        "#split the data to train and test by using cross validation\n",
        "train, test = train_test_split(df, test_size=0.3 , random_state=1)\n",
        "\n",
        "tree = decisionTree(df,train)\n",
        "# pprint.pprint(tree)\n",
        "\n",
        "trueLabels = [str(x) for x in np.unique(np.array(df.pop(\"Decision\").to_list()))]\n",
        "\n",
        "makePrediction(tree,df,test,'Decision',trueLabels)\n",
        "\n"
      ],
      "metadata": {
        "id": "Ll-HDWEbts23",
        "colab": {
          "base_uri": "https://localhost:8080/"
        },
        "outputId": "4ffe842b-b792-4731-a680-8e095f287cab"
      },
      "execution_count": null,
      "outputs": [
        {
          "output_type": "stream",
          "name": "stdout",
          "text": [
            "[INFO]:  1 CPU cores will be allocated in parallel running\n",
            "C4.5  tree is going to be built...\n",
            "-------------------------\n",
            "finished in  3.2196712493896484  seconds\n",
            "-------------------------\n",
            "Evaluate  train set\n",
            "-------------------------\n",
            "Accuracy:  100.0 % on  101  instances\n",
            "Labels:  ['1' '4' '2' '7' '6' '5' '3']\n",
            "Confusion matrix:  [[41, 0, 0, 0, 0, 0, 0], [0, 13, 0, 0, 0, 0, 0], [0, 0, 20, 0, 0, 0, 0], [0, 0, 0, 10, 0, 0, 0], [0, 0, 0, 0, 8, 0, 0], [0, 0, 0, 0, 0, 4, 0], [0, 0, 0, 0, 0, 0, 5]]\n",
            "Decision  1  => Accuray:  100.0 %, Precision:  100.0 %, Recall:  100.0 %, F1:  100.0 %\n",
            "Decision  4  => Accuray:  100.0 %, Precision:  100.0 %, Recall:  100.0 %, F1:  100.0 %\n",
            "Decision  2  => Accuray:  100.0 %, Precision:  100.0 %, Recall:  100.0 %, F1:  100.0 %\n",
            "Decision  7  => Accuray:  100.0 %, Precision:  100.0 %, Recall:  100.0 %, F1:  100.0 %\n",
            "Decision  6  => Accuray:  100.0 %, Precision:  100.0 %, Recall:  100.0 %, F1:  100.0 %\n",
            "Decision  5  => Accuray:  100.0 %, Precision:  100.0 %, Recall:  100.0 %, F1:  100.0 %\n",
            "Decision  3  => Accuray:  100.0 %, Precision:  100.0 %, Recall:  100.0 %, F1:  100.0 %\n",
            "Accuracy is: 100.000000\n",
            "Performance Metrics of Test Data : Accuracy : 1.000000 , Recall : 1.000000 ,Specificity: 0.000000 , Precision : 1.000000, F1 Score: 1.000000\n"
          ]
        }
      ]
    }
  ]
}